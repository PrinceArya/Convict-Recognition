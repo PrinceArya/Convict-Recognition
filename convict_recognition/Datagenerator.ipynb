{
 "cells": [
  {
   "cell_type": "code",
   "execution_count": 5,
   "metadata": {},
   "outputs": [],
   "source": [
    "import cv2\n",
    "import numpy as np\n",
    "cam = cv2.VideoCapture(0)\n",
    "faceDetect = cv2.CascadeClassifier(\"haarcascade_frontalface_default.xml\")"
   ]
  },
  {
   "cell_type": "code",
   "execution_count": 6,
   "metadata": {},
   "outputs": [
    {
     "name": "stdout",
     "output_type": "stream",
     "text": [
      "Enter your Id2\n",
      "Enter your nameTom_cruise\n",
      "Enter your nationalityAmerican\n",
      "Enter your genderMale\n",
      "Enter criminal record of personNone\n"
     ]
    }
   ],
   "source": [
    "Id = input(\"Enter your Id\")\n",
    "name = input(\"Enter your name\")\n",
    "Nationality = input(\"Enter your nationality\")\n",
    "gender = input(\"Enter your gender\")\n",
    "criminal_rcord = input(\"Enter criminal record of person\")"
   ]
  },
  {
   "cell_type": "code",
   "execution_count": 7,
   "metadata": {},
   "outputs": [],
   "source": [
    "import csv\n",
    "\n",
    "row = [str(Id) , str(name), str(Nationality) , str(gender ),str(criminal_rcord)]\n",
    "\n",
    "with open('information.csv', 'a') as csvFile:\n",
    "    writer = csv.writer(csvFile)\n",
    "    writer.writerow(row)\n",
    "\n",
    "csvFile.close()"
   ]
  },
  {
   "cell_type": "code",
   "execution_count": 8,
   "metadata": {},
   "outputs": [],
   "source": [
    "\n",
    "sampleNum = 0\n",
    "while(True):\n",
    "    ret,img = cam.read()\n",
    "    gray = cv2.cvtColor(img,cv2.COLOR_BGR2GRAY)\n",
    "    faces = faceDetect.detectMultiScale(gray,1.3,5)\n",
    "    for (x,y,w,h) in faces:\n",
    "        cv2.rectangle(img,(x,y),(x+w,y+h),(255,0,0),2)\n",
    "        sampleNum += 1\n",
    "        cv2.imwrite(\"dataSet/User.\"+str(Id)+'.'+str(sampleNum) + \".jpg\",gray[y:y+h,x:x+w])\n",
    "        cv2.waitKey(100)\n",
    "    cv2.imshow('frame',img)\n",
    "    cv2.waitKey(1)\n",
    "    if(sampleNum>30):\n",
    "        break\n",
    "cam.release()\n",
    "cv2.destroyAllWindows()"
   ]
  },
  {
   "cell_type": "code",
   "execution_count": null,
   "metadata": {},
   "outputs": [],
   "source": []
  }
 ],
 "metadata": {
  "kernelspec": {
   "display_name": "Python 3",
   "language": "python",
   "name": "python3"
  },
  "language_info": {
   "codemirror_mode": {
    "name": "ipython",
    "version": 3
   },
   "file_extension": ".py",
   "mimetype": "text/x-python",
   "name": "python",
   "nbconvert_exporter": "python",
   "pygments_lexer": "ipython3",
   "version": "3.7.1"
  }
 },
 "nbformat": 4,
 "nbformat_minor": 2
}
